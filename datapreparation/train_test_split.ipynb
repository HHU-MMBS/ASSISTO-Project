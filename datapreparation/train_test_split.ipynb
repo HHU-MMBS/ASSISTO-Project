{
 "cells": [
  {
   "cell_type": "code",
   "execution_count": 1,
   "metadata": {},
   "outputs": [
    {
     "name": "stderr",
     "output_type": "stream",
     "text": [
      "Using TensorFlow backend.\n"
     ]
    }
   ],
   "source": [
    "import os\n",
    "import sys\n",
    "import time\n",
    "import pickle\n",
    "import itertools\n",
    "import numpy as np\n",
    "import pandas as pd\n",
    "\n",
    "from itertools import islice\n",
    "import matplotlib.pyplot as plt\n",
    "from collections import Counter\n",
    "from multiprocessing import Pool\n",
    "from datetime import datetime, timedelta\n",
    "from astropy.table import QTable, Table, Column\n",
    "from sklearn.preprocessing import StandardScaler\n",
    "from sklearn.model_selection import train_test_split\n",
    "from imblearn.over_sampling import RandomOverSampler\n",
    "\n",
    "\n",
    "import torch\n",
    "torch.set_num_threads(6)\n",
    "from torch.utils.data import DataLoader"
   ]
  },
  {
   "cell_type": "markdown",
   "metadata": {},
   "source": [
    "### Loading Excel Sheet"
   ]
  },
  {
   "cell_type": "code",
   "execution_count": 2,
   "metadata": {
    "scrolled": true
   },
   "outputs": [
    {
     "data": {
      "text/html": [
       "<div>\n",
       "<style scoped>\n",
       "    .dataframe tbody tr th:only-of-type {\n",
       "        vertical-align: middle;\n",
       "    }\n",
       "\n",
       "    .dataframe tbody tr th {\n",
       "        vertical-align: top;\n",
       "    }\n",
       "\n",
       "    .dataframe thead th {\n",
       "        text-align: right;\n",
       "    }\n",
       "</style>\n",
       "<table border=\"1\" class=\"dataframe\">\n",
       "  <thead>\n",
       "    <tr style=\"text-align: right;\">\n",
       "      <th></th>\n",
       "      <th>Pat-ID</th>\n",
       "      <th>Cohort [0 = Inpatient, 1 = Outpatient]</th>\n",
       "      <th>Date</th>\n",
       "      <th>Hours included [h]</th>\n",
       "      <th>SCC_all [Diagnose]</th>\n",
       "      <th>SCC_all_start</th>\n",
       "      <th>Regular day_all [1 = 'regular day', 0 = 'irregular day']</th>\n",
       "      <th>SCC_all_performance</th>\n",
       "      <th>SCC_infectious_start</th>\n",
       "      <th>Regular day_infectious [1 = 'regular day', 0 = 'irregular day']</th>\n",
       "      <th>SCC_infectious_performance</th>\n",
       "    </tr>\n",
       "  </thead>\n",
       "  <tbody>\n",
       "    <tr>\n",
       "      <th>0</th>\n",
       "      <td>1001</td>\n",
       "      <td>0.0</td>\n",
       "      <td>2018-11-09 00:00:00</td>\n",
       "      <td>4.416667</td>\n",
       "      <td>NaN</td>\n",
       "      <td>NaN</td>\n",
       "      <td>1.0</td>\n",
       "      <td>NaN</td>\n",
       "      <td>NaN</td>\n",
       "      <td>1.0</td>\n",
       "      <td>-4.0</td>\n",
       "    </tr>\n",
       "    <tr>\n",
       "      <th>1</th>\n",
       "      <td>1001</td>\n",
       "      <td>0.0</td>\n",
       "      <td>2018-11-10 00:00:00</td>\n",
       "      <td>24.000000</td>\n",
       "      <td>NaN</td>\n",
       "      <td>NaN</td>\n",
       "      <td>1.0</td>\n",
       "      <td>NaN</td>\n",
       "      <td>NaN</td>\n",
       "      <td>1.0</td>\n",
       "      <td>-3.0</td>\n",
       "    </tr>\n",
       "    <tr>\n",
       "      <th>2</th>\n",
       "      <td>1001</td>\n",
       "      <td>0.0</td>\n",
       "      <td>2018-11-11 00:00:00</td>\n",
       "      <td>24.000000</td>\n",
       "      <td>NaN</td>\n",
       "      <td>NaN</td>\n",
       "      <td>0.0</td>\n",
       "      <td>-2.0</td>\n",
       "      <td>NaN</td>\n",
       "      <td>0.0</td>\n",
       "      <td>-2.0</td>\n",
       "    </tr>\n",
       "    <tr>\n",
       "      <th>3</th>\n",
       "      <td>1001</td>\n",
       "      <td>0.0</td>\n",
       "      <td>2018-11-12 00:00:00</td>\n",
       "      <td>24.000000</td>\n",
       "      <td>NaN</td>\n",
       "      <td>NaN</td>\n",
       "      <td>0.0</td>\n",
       "      <td>-1.0</td>\n",
       "      <td>NaN</td>\n",
       "      <td>0.0</td>\n",
       "      <td>-1.0</td>\n",
       "    </tr>\n",
       "    <tr>\n",
       "      <th>4</th>\n",
       "      <td>1001</td>\n",
       "      <td>0.0</td>\n",
       "      <td>2018-11-13 00:00:00</td>\n",
       "      <td>24.000000</td>\n",
       "      <td>1.0</td>\n",
       "      <td>1.0</td>\n",
       "      <td>0.0</td>\n",
       "      <td>0.0</td>\n",
       "      <td>1.0</td>\n",
       "      <td>0.0</td>\n",
       "      <td>0.0</td>\n",
       "    </tr>\n",
       "    <tr>\n",
       "      <th>...</th>\n",
       "      <td>...</td>\n",
       "      <td>...</td>\n",
       "      <td>...</td>\n",
       "      <td>...</td>\n",
       "      <td>...</td>\n",
       "      <td>...</td>\n",
       "      <td>...</td>\n",
       "      <td>...</td>\n",
       "      <td>...</td>\n",
       "      <td>...</td>\n",
       "      <td>...</td>\n",
       "    </tr>\n",
       "    <tr>\n",
       "      <th>1908</th>\n",
       "      <td>1079</td>\n",
       "      <td>1.0</td>\n",
       "      <td>2020-02-27 00:00:00</td>\n",
       "      <td>24.000000</td>\n",
       "      <td>NaN</td>\n",
       "      <td>NaN</td>\n",
       "      <td>1.0</td>\n",
       "      <td>NaN</td>\n",
       "      <td>NaN</td>\n",
       "      <td>1.0</td>\n",
       "      <td>NaN</td>\n",
       "    </tr>\n",
       "    <tr>\n",
       "      <th>1909</th>\n",
       "      <td>1079</td>\n",
       "      <td>1.0</td>\n",
       "      <td>2020-02-28 00:00:00</td>\n",
       "      <td>24.000000</td>\n",
       "      <td>NaN</td>\n",
       "      <td>NaN</td>\n",
       "      <td>1.0</td>\n",
       "      <td>NaN</td>\n",
       "      <td>NaN</td>\n",
       "      <td>1.0</td>\n",
       "      <td>NaN</td>\n",
       "    </tr>\n",
       "    <tr>\n",
       "      <th>1910</th>\n",
       "      <td>1079</td>\n",
       "      <td>1.0</td>\n",
       "      <td>2020-02-29 00:00:00</td>\n",
       "      <td>24.000000</td>\n",
       "      <td>NaN</td>\n",
       "      <td>NaN</td>\n",
       "      <td>1.0</td>\n",
       "      <td>NaN</td>\n",
       "      <td>NaN</td>\n",
       "      <td>1.0</td>\n",
       "      <td>NaN</td>\n",
       "    </tr>\n",
       "    <tr>\n",
       "      <th>1911</th>\n",
       "      <td>1079</td>\n",
       "      <td>1.0</td>\n",
       "      <td>2020-03-01 00:00:00</td>\n",
       "      <td>24.000000</td>\n",
       "      <td>NaN</td>\n",
       "      <td>NaN</td>\n",
       "      <td>1.0</td>\n",
       "      <td>NaN</td>\n",
       "      <td>NaN</td>\n",
       "      <td>1.0</td>\n",
       "      <td>NaN</td>\n",
       "    </tr>\n",
       "    <tr>\n",
       "      <th>1912</th>\n",
       "      <td>1079</td>\n",
       "      <td>1.0</td>\n",
       "      <td>2020-03-02 00:00:00</td>\n",
       "      <td>12.000000</td>\n",
       "      <td>NaN</td>\n",
       "      <td>NaN</td>\n",
       "      <td>1.0</td>\n",
       "      <td>NaN</td>\n",
       "      <td>NaN</td>\n",
       "      <td>1.0</td>\n",
       "      <td>NaN</td>\n",
       "    </tr>\n",
       "  </tbody>\n",
       "</table>\n",
       "<p>1913 rows × 11 columns</p>\n",
       "</div>"
      ],
      "text/plain": [
       "     Pat-ID  Cohort [0 = Inpatient, 1 = Outpatient]                 Date  \\\n",
       "0      1001                                     0.0  2018-11-09 00:00:00   \n",
       "1      1001                                     0.0  2018-11-10 00:00:00   \n",
       "2      1001                                     0.0  2018-11-11 00:00:00   \n",
       "3      1001                                     0.0  2018-11-12 00:00:00   \n",
       "4      1001                                     0.0  2018-11-13 00:00:00   \n",
       "...     ...                                     ...                  ...   \n",
       "1908   1079                                     1.0  2020-02-27 00:00:00   \n",
       "1909   1079                                     1.0  2020-02-28 00:00:00   \n",
       "1910   1079                                     1.0  2020-02-29 00:00:00   \n",
       "1911   1079                                     1.0  2020-03-01 00:00:00   \n",
       "1912   1079                                     1.0  2020-03-02 00:00:00   \n",
       "\n",
       "      Hours included [h]  SCC_all [Diagnose]  SCC_all_start  \\\n",
       "0               4.416667                 NaN            NaN   \n",
       "1              24.000000                 NaN            NaN   \n",
       "2              24.000000                 NaN            NaN   \n",
       "3              24.000000                 NaN            NaN   \n",
       "4              24.000000                 1.0            1.0   \n",
       "...                  ...                 ...            ...   \n",
       "1908           24.000000                 NaN            NaN   \n",
       "1909           24.000000                 NaN            NaN   \n",
       "1910           24.000000                 NaN            NaN   \n",
       "1911           24.000000                 NaN            NaN   \n",
       "1912           12.000000                 NaN            NaN   \n",
       "\n",
       "      Regular day_all [1 = 'regular day', 0 = 'irregular day']  \\\n",
       "0                                                   1.0          \n",
       "1                                                   1.0          \n",
       "2                                                   0.0          \n",
       "3                                                   0.0          \n",
       "4                                                   0.0          \n",
       "...                                                 ...          \n",
       "1908                                                1.0          \n",
       "1909                                                1.0          \n",
       "1910                                                1.0          \n",
       "1911                                                1.0          \n",
       "1912                                                1.0          \n",
       "\n",
       "      SCC_all_performance  SCC_infectious_start  \\\n",
       "0                     NaN                   NaN   \n",
       "1                     NaN                   NaN   \n",
       "2                    -2.0                   NaN   \n",
       "3                    -1.0                   NaN   \n",
       "4                     0.0                   1.0   \n",
       "...                   ...                   ...   \n",
       "1908                  NaN                   NaN   \n",
       "1909                  NaN                   NaN   \n",
       "1910                  NaN                   NaN   \n",
       "1911                  NaN                   NaN   \n",
       "1912                  NaN                   NaN   \n",
       "\n",
       "      Regular day_infectious [1 = 'regular day', 0 = 'irregular day']  \\\n",
       "0                                                   1.0                 \n",
       "1                                                   1.0                 \n",
       "2                                                   0.0                 \n",
       "3                                                   0.0                 \n",
       "4                                                   0.0                 \n",
       "...                                                 ...                 \n",
       "1908                                                1.0                 \n",
       "1909                                                1.0                 \n",
       "1910                                                1.0                 \n",
       "1911                                                1.0                 \n",
       "1912                                                1.0                 \n",
       "\n",
       "      SCC_infectious_performance  \n",
       "0                           -4.0  \n",
       "1                           -3.0  \n",
       "2                           -2.0  \n",
       "3                           -1.0  \n",
       "4                            0.0  \n",
       "...                          ...  \n",
       "1908                         NaN  \n",
       "1909                         NaN  \n",
       "1910                         NaN  \n",
       "1911                         NaN  \n",
       "1912                         NaN  \n",
       "\n",
       "[1913 rows x 11 columns]"
      ]
     },
     "execution_count": 2,
     "metadata": {},
     "output_type": "execute_result"
    }
   ],
   "source": [
    "xls = pd.ExcelFile(\"path to excel sheet\") \n",
    "data_sheet1 = xls.parse(0)\n",
    "data_sheet1= data_sheet1[:1913]\n",
    "data_sheet1"
   ]
  },
  {
   "cell_type": "markdown",
   "metadata": {},
   "source": [
    "### Getting  patients' IDs"
   ]
  },
  {
   "cell_type": "code",
   "execution_count": 3,
   "metadata": {},
   "outputs": [
    {
     "name": "stdout",
     "output_type": "stream",
     "text": [
      "[1001 1002 1003 1004 1005 1006 1007 1008 1009 1010 1011 1012 1013 1014\n",
      " 1015 1016 1017 1018 1019 1020 1021 1022 1023 1024 1025 1026 1027 1028\n",
      " 1029 1030 1031 1032 1033 1034 1035 1036 1037 1038 1039 1040 1041 1042\n",
      " 1043 1044 1045 1046 1047 1048 1049 1050 1051 1052 1053 1054 1055 1056\n",
      " 1057 1058 1059 1060 1061 1062 1063 1064 1065 1066 1067 1068 1069 1070\n",
      " 1071 1072 1073 1074 1075 1076 1077 1078 1079]\n"
     ]
    }
   ],
   "source": [
    "pat_id = data_sheet1[\"Pat-ID\"]\n",
    "print(np.unique(pat_id.values))"
   ]
  },
  {
   "cell_type": "markdown",
   "metadata": {},
   "source": [
    "### Getting Label"
   ]
  },
  {
   "cell_type": "code",
   "execution_count": 4,
   "metadata": {},
   "outputs": [],
   "source": [
    "is_regular = data_sheet1[\"Regular day_infectious [1 = 'regular day', 0 = 'irregular day']\"]"
   ]
  },
  {
   "cell_type": "markdown",
   "metadata": {},
   "source": [
    "### Getting date and making a dictionary  with key=[date, ID] and value=is_regular"
   ]
  },
  {
   "cell_type": "code",
   "execution_count": 8,
   "metadata": {},
   "outputs": [
    {
     "name": "stdout",
     "output_type": "stream",
     "text": [
      "0       2018-11-09 00:00:00\n",
      "1       2018-11-10 00:00:00\n",
      "2       2018-11-11 00:00:00\n",
      "3       2018-11-12 00:00:00\n",
      "4       2018-11-13 00:00:00\n",
      "               ...         \n",
      "1908    2020-02-27 00:00:00\n",
      "1909    2020-02-28 00:00:00\n",
      "1910    2020-02-29 00:00:00\n",
      "1911    2020-03-01 00:00:00\n",
      "1912    2020-03-02 00:00:00\n",
      "Name: Date, Length: 1913, dtype: object\n"
     ]
    }
   ],
   "source": [
    "date = data_sheet1[\"Date\"]\n",
    "print(date)"
   ]
  },
  {
   "cell_type": "code",
   "execution_count": 9,
   "metadata": {},
   "outputs": [],
   "source": [
    "Dict = {}\n",
    "for i in range (len(date)):\n",
    "    Dict[str([date[i].date(), pat_id[i]])]= is_regular[i]"
   ]
  },
  {
   "cell_type": "markdown",
   "metadata": {},
   "source": [
    "### Getting Cohort [0 = Inpatient, 1 = Outpatient] and making a dictionary  with key=[date, ID] and value=cohort"
   ]
  },
  {
   "cell_type": "code",
   "execution_count": 10,
   "metadata": {},
   "outputs": [],
   "source": [
    "cohort = data_sheet1[\"Cohort [0 = Inpatient, 1 = Outpatient]\"]"
   ]
  },
  {
   "cell_type": "code",
   "execution_count": 11,
   "metadata": {},
   "outputs": [],
   "source": [
    "Dict_cohort = {}\n",
    "for i in range (len(date)):\n",
    "    Dict_cohort[str([date[i].date(), pat_id[i]])]= cohort[i]"
   ]
  },
  {
   "cell_type": "markdown",
   "metadata": {},
   "source": [
    "### Functions   "
   ]
  },
  {
   "cell_type": "code",
   "execution_count": 12,
   "metadata": {},
   "outputs": [],
   "source": [
    "def num_samples(all_intervals):\n",
    "    c = 0\n",
    "    for i in range(len(all_intervals)):\n",
    "        c +=1\n",
    "    return c\n",
    "\n",
    "def max_min_len(all_intervals):\n",
    "    length_lst = []\n",
    "    for i in range(len(all_intervals)):\n",
    "        length_lst.append((all_intervals[i][0]).shape[0])\n",
    "    return  [min(length_lst), max(length_lst)] \n",
    "\n",
    "def len_samples(all_intervals):\n",
    "    length_lst = []\n",
    "    for i in range(len(all_intervals)):\n",
    "        length_lst.append((all_intervals[i][0]).shape[0])\n",
    "    return  length_lst\n",
    "\n",
    "def list_start_hour(all_intervals):\n",
    "    start_hour = []\n",
    "    for i in range(len(all_intervals)):\n",
    "        start_hour.append((all_intervals[i][1]).hour)\n",
    "    return start_hour    "
   ]
  },
  {
   "cell_type": "markdown",
   "metadata": {},
   "source": [
    "### Reading Patients Data"
   ]
  },
  {
   "cell_type": "code",
   "execution_count": 13,
   "metadata": {
    "scrolled": true
   },
   "outputs": [
    {
     "data": {
      "text/plain": [
       "['H2017A_1055_190529_w50_merged.pkl',\n",
       " 'H2017A_1056_190726_m64_merged.pkl',\n",
       " 'H2017A_1057_190726_m50_merged.pkl',\n",
       " 'H2017A_1058_190801_w69_merged.pkl',\n",
       " 'H2017A_1059_190809_w58_merged.pkl',\n",
       " 'H2017A_1060_190814_w50_merged.pkl',\n",
       " 'H2017A_1061_190826_m69_merged.pkl',\n",
       " 'H2017A_1062_190904_w44_merged.pkl',\n",
       " 'H2017A_1063_190920_m73_merged.pkl',\n",
       " 'H2017A_1064_190924_m52_merged.pkl',\n",
       " 'H2017A_1065_191002_m69_merged.pkl',\n",
       " 'H2017A_1066_191011_m52_merged.pkl',\n",
       " 'H2017A_1067_191016_w21_merged.pkl',\n",
       " 'H2017A_1068_191017_m62_merged.pkl',\n",
       " 'H2017A_1069_191018_m49_merged.pkl',\n",
       " 'H2017A_1070_191018_m62_merged.pkl',\n",
       " 'H2017A_1071_191122_m57_merged.pkl',\n",
       " 'H2017A_1072_191202_m60_merged.pkl',\n",
       " 'H2017A_1073_191209_w54_merged.pkl',\n",
       " 'H2017A_1074_191214_w44_merged.pkl',\n",
       " 'H2017A_1075_200114_w54_merged.pkl',\n",
       " 'H2017A_1076_200121_w44_merged.pkl',\n",
       " 'H2017A_1077_200120_m48_merged.pkl',\n",
       " 'H2017A_1078_200130_m54_merged.pkl',\n",
       " 'H2017A_1079_200218_w54_merged.pkl']"
      ]
     },
     "execution_count": 13,
     "metadata": {},
     "output_type": "execute_result"
    }
   ],
   "source": [
    "file_path = 'path to .pkl files'\n",
    "\n",
    "InPat_Pkl_list = []\n",
    "for root, dirs, files in os.walk(file_path):\n",
    "    for name in files:\n",
    "        InPat_Pkl_list.append(name)\n",
    "            \n",
    "sorted(InPat_Pkl_list)"
   ]
  },
  {
   "cell_type": "code",
   "execution_count": 17,
   "metadata": {},
   "outputs": [
    {
     "name": "stdout",
     "output_type": "stream",
     "text": [
      "Total Number of Intervals:7579\n"
     ]
    }
   ],
   "source": [
    "length_lst = []\n",
    "values_lst = []\n",
    "max_len_lst = []\n",
    "min_len_lst = []\n",
    "estimated_total_num = []\n",
    "s_h_in = []\n",
    "for i in range(len(InPat_Pkl_list)):\n",
    "    with open(os.path.join(file_path, InPat_Pkl_list[i]), 'rb') as fileobj:\n",
    "        [all_intervals, num_skipped_intervals] = pickle.load(fileobj)\n",
    "        values_lst.append(num_samples(all_intervals))\n",
    "        max_len_lst.append(max_min_len(all_intervals)[1])\n",
    "        min_len_lst.append(max_min_len(all_intervals)[0])\n",
    "        length_lst.append(len_samples(all_intervals))\n",
    "        s_h_in.append(list_start_hour(all_intervals))\n",
    "        estimated_total_num.append((np.array(len_samples(all_intervals)).sum())//3600)\n",
    "        \n",
    "print(f'Total Number of Intervals:{np.array(values_lst).sum()}')  "
   ]
  },
  {
   "cell_type": "code",
   "execution_count": 16,
   "metadata": {},
   "outputs": [
    {
     "name": "stdout",
     "output_type": "stream",
     "text": [
      "Estimated Total Number of Hours: 7187\n"
     ]
    }
   ],
   "source": [
    "print(f'Estimated Total Number of Hours:{np.array(estimated_total_num).sum()}')"
   ]
  },
  {
   "cell_type": "markdown",
   "metadata": {},
   "source": [
    "### Plotting Number of Samples per Hour"
   ]
  },
  {
   "cell_type": "code",
   "execution_count": 19,
   "metadata": {},
   "outputs": [
    {
     "data": {
      "image/png": "[encoded data removed]",
      "text/plain": [
       "<Figure size 3600x1440 with 1 Axes>"
      ]
     },
     "metadata": {
      "needs_background": "light"
     },
     "output_type": "display_data"
    }
   ],
   "source": [
    "s_h_all = s_h_in\n",
    "s_h_lst_merged = np.array(list(itertools.chain(*s_h_all)))\n",
    "num = []\n",
    "for i in range(0,24):\n",
    "    num.append((1.0*(s_h_lst_merged==i)).sum())\n",
    "    \n",
    "h_lst = [f'0{i}:00-{i+1}:00' if i<10 else f'{i}:00-{i+1}:00' for i in range(0,24)]    \n",
    "\n",
    "# Define plot space\n",
    "fig, ax = plt.subplots(figsize=(50, 20))\n",
    "\n",
    "# Create bar plot\n",
    "ax.bar(h_lst, num)\n",
    "\n",
    "ax.set_xticklabels(h_lst, rotation=45, ha=\"right\", fontsize=30) \n",
    "plt.rc('ytick', labelsize=45)\n",
    "plt.ylabel(\"Number of samples per hour\", fontsize=40)\n",
    "plt.show()"
   ]
  },
  {
   "cell_type": "code",
   "execution_count": 21,
   "metadata": {
    "scrolled": true
   },
   "outputs": [
    {
     "name": "stdout",
     "output_type": "stream",
     "text": [
      "Pat-ID Total number of hours\n",
      "------ ---------------------\n",
      "  1055                   338\n",
      "  1056                   339\n",
      "  1057                   239\n",
      "  1058                   271\n",
      "  1059                   348\n",
      "  1060                   195\n",
      "  1061                   346\n",
      "  1062                   263\n",
      "  1063                   640\n",
      "  1064                   315\n",
      "   ...                   ...\n",
      "  1069                   361\n",
      "  1070                   343\n",
      "  1071                   232\n",
      "  1072                   120\n",
      "  1073                   324\n",
      "  1074                   254\n",
      "  1075                   328\n",
      "  1076                   321\n",
      "  1077                   353\n",
      "  1078                   217\n",
      "  1079                   172\n",
      "Length = 25 rows\n"
     ]
    }
   ],
   "source": [
    "keys_lst = []\n",
    "for i in range(len(InPat_Pkl_list)):\n",
    "    keys_lst.append(InPat_Pkl_list[i].split('_')[1])\n",
    "\n",
    "indices = np.argsort(keys_lst)\n",
    "indices    \n",
    "sorted_keys_lst = sorted(keys_lst)    \n",
    "sorted_estimated_total_num = [estimated_total_num[i] for i in indices]   \n",
    "t = Table([sorted_keys_lst, sorted_estimated_total_num], names=('Pat-ID', 'Total number of hours'))\n",
    "print(t)\n"
   ]
  },
  {
   "cell_type": "code",
   "execution_count": 24,
   "metadata": {},
   "outputs": [
    {
     "data": {
      "image/png": "[encoded data removed]",
      "text/plain": [
       "<Figure size 432x288 with 1 Axes>"
      ]
     },
     "metadata": {
      "needs_background": "light"
     },
     "output_type": "display_data"
    }
   ],
   "source": [
    "length_lst_merged = list(itertools.chain(*length_lst))\n",
    "plt.figure()\n",
    "plt.hist(length_lst_merged)\n",
    "plt.xlabel(\"length\")\n",
    "plt.ylabel(\"frequencies\", fontsize=20)\n",
    "plt.show()"
   ]
  },
  {
   "cell_type": "code",
   "execution_count": 26,
   "metadata": {},
   "outputs": [
    {
     "name": "stdout",
     "output_type": "stream",
     "text": [
      "Nubmer of Samples whose Length>=2000.0: 7200\n",
      "Eligible Intervals(%): 94.99934028235914\n"
     ]
    }
   ],
   "source": [
    "threshold = 2000.\n",
    "length_ = []\n",
    "for i in range(len(length_lst)):\n",
    "    length_.append(int((1.*(np.array(length_lst[i])>=threshold)).sum()))\n",
    "    \n",
    "print(f'Nubmer of Samples whose Length>={threshold}:', np.array(length_).sum()) \n",
    "print('Eligible Intervals(%):', 100*((np.array(length_).sum())/(np.array(values_lst).sum())))"
   ]
  },
  {
   "cell_type": "markdown",
   "metadata": {},
   "source": [
    "### adding is_regular  variable to data and saving them"
   ]
  },
  {
   "cell_type": "code",
   "execution_count": 27,
   "metadata": {},
   "outputs": [
    {
     "name": "stdout",
     "output_type": "stream",
     "text": [
      "1553\n",
      "5402\n"
     ]
    }
   ],
   "source": [
    "L = 3000\n",
    "all_data_regular = []\n",
    "all_data_irregular = []\n",
    "for i in range(len(InPat_Pkl_list)):\n",
    "    with open(os.path.join(file_path, InPat_Pkl_list[i]), 'rb') as fileobj:\n",
    "        [all_intervals, num_skipped_intervals] = pickle.load(fileobj)\n",
    "    for i in range(len(all_intervals)):\n",
    "        intervals = torch.tensor(all_intervals[i][0]) \n",
    "        s_t = all_intervals[i][1]\n",
    "        e_t = all_intervals[i][2]\n",
    "        ID = int(all_intervals[i][3])\n",
    "        start_time = [s_t.year, s_t.month, s_t.day, s_t.hour, s_t.minute]\n",
    "        end_time = [e_t.year, e_t.month, e_t.day, e_t.hour, e_t.minute]\n",
    "        if str([s_t.date(), ID]) in Dict.keys():\n",
    "            is_regular = Dict[str([s_t.date(), ID])]\n",
    "            length = len(all_intervals[i][0])\n",
    "            if length>=L:\n",
    "                if is_regular==1:\n",
    "                    all_data_regular.append([all_intervals[i][0][:L, :],\n",
    "                                     ID, is_regular, np.array(start_time), np.array(end_time)])\n",
    "                if is_regular==0:\n",
    "                    all_data_irregular.append([all_intervals[i][0][:L, :],\n",
    "                                     ID, is_regular, np.array(start_time), np.array(end_time)])    \n",
    "print(len(all_data_irregular))    \n",
    "print(len(all_data_regular)) "
   ]
  },
  {
   "cell_type": "code",
   "execution_count": null,
   "metadata": {},
   "outputs": [],
   "source": []
  },
  {
   "cell_type": "code",
   "execution_count": 29,
   "metadata": {},
   "outputs": [
    {
     "name": "stdout",
     "output_type": "stream",
     "text": [
      "[(1055, 228), (1056, 163), (1057, 230), (1058, 91), (1059, 340), (1060, 191), (1061, 60), (1062, 219), (1063, 384), (1064, 301), (1065, 114), (1066, 100), (1067, 203), (1068, 222), (1069, 176), (1070, 332), (1071, 224), (1072, 119), (1073, 164), (1074, 244), (1075, 322), (1076, 254), (1077, 345), (1078, 208), (1079, 168)]\n"
     ]
    }
   ],
   "source": [
    "loader = DataLoader(all_data_regular, batch_size=len(all_data_regular), shuffle=True, num_workers=0)\n",
    "x, ID, is_regular, _, _ = next(iter(loader))\n",
    "\n",
    "print(sorted(Counter(np.array(ID)).items())) "
   ]
  },
  {
   "cell_type": "code",
   "execution_count": 30,
   "metadata": {},
   "outputs": [
    {
     "name": "stdout",
     "output_type": "stream",
     "text": [
      "[(1055, 98), (1056, 158), (1058, 172), (1061, 278), (1062, 36), (1063, 231), (1065, 88), (1067, 117), (1069, 171), (1073, 149), (1076, 55)]\n"
     ]
    }
   ],
   "source": [
    "loader = DataLoader(all_data_irregular, batch_size=len(all_data_irregular), shuffle=True, num_workers=0)\n",
    "x, ID, is_regular, _, _ = next(iter(loader))\n",
    "\n",
    "print(sorted(Counter(np.array(ID)).items()))"
   ]
  },
  {
   "cell_type": "markdown",
   "metadata": {},
   "source": [
    "### Splitting Regular Data into train/test (90/10%)"
   ]
  },
  {
   "cell_type": "code",
   "execution_count": 31,
   "metadata": {},
   "outputs": [
    {
     "name": "stdout",
     "output_type": "stream",
     "text": [
      "len(train_set): 4861\n",
      "len(test_set): 541\n"
     ]
    }
   ],
   "source": [
    "train_set, test_set = train_test_split(all_data_regular, test_size=0.1, shuffle=True)\n",
    "print('len(train_set):', len(train_set))\n",
    "print('len(test_set):', len(test_set))\n",
    "\n",
    "train_set_label = []\n",
    "for i in range(len(train_set)):\n",
    "    train_set_label.append(train_set[i][-4]) \n",
    "    \n",
    "# ros = RandomOverSampler()\n",
    "# X_resampled_train, y_resampled_train = ros.fit_resample(train_set, train_set_label)\n",
    "# print(sorted(Counter(train_set_label).items())) \n",
    "# print(len(X_resampled_train))"
   ]
  },
  {
   "cell_type": "code",
   "execution_count": null,
   "metadata": {},
   "outputs": [],
   "source": [
    "path = \"path for saving the data\"\n",
    "\n",
    "with open(f'{path}/train_set.pickle', 'wb') as output:\n",
    "    pickle.dump(train_set, output)\n",
    "\n",
    "with open(f'{path}/test_set.pickle', 'wb') as output:\n",
    "    pickle.dump(test_set, output) \n",
    "    \n",
    "with open(f'{path}/ood_set.pickle', 'wb') as output:\n",
    "    pickle.dump(all_data_irregular, output)  "
   ]
  },
  {
   "cell_type": "code",
   "execution_count": null,
   "metadata": {},
   "outputs": [],
   "source": []
  }
 ],
 "metadata": {
  "kernelspec": {
   "display_name": "Python 3",
   "language": "python",
   "name": "python3"
  },
  "language_info": {
   "codemirror_mode": {
    "name": "ipython",
    "version": 3
   },
   "file_extension": ".py",
   "mimetype": "text/x-python",
   "name": "python",
   "nbconvert_exporter": "python",
   "pygments_lexer": "ipython3",
   "version": "3.6.5"
  }
 },
 "nbformat": 4,
 "nbformat_minor": 2
}
